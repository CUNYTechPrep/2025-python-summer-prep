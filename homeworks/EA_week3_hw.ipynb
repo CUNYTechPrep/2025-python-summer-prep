{
 "cells": [
  {
   "cell_type": "markdown",
   "metadata": {},
   "source": [
    "# Googling how to do something is NOT cheating. \n",
    "# Googling how to do figure something out is ENCOURAGED. "
   ]
  },
  {
   "cell_type": "markdown",
   "metadata": {},
   "source": [
    "## #1 Figure out how to print the current date and time. \n",
    "The solution should be in this format:  2021-08-05 11:56:30 (YYYY-MM-DD HH:MM:SS)\n",
    "\n",
    "Hint:  You're going to have to import a library"
   ]
  },
  {
   "cell_type": "code",
   "execution_count": 1,
   "metadata": {},
   "outputs": [
    {
     "name": "stdout",
     "output_type": "stream",
     "text": [
      "2025-08-05 20:46:20.960252\n"
     ]
    }
   ],
   "source": [
    "from datetime import datetime\n",
    "\n",
    "print(datetime.now())"
   ]
  },
  {
   "cell_type": "markdown",
   "metadata": {},
   "source": [
    "## #2 Write a function that accepts the radius of a circle and returns the area of a circle.  \n",
    "The function for the area of a circle is pi * radius squared.  "
   ]
  },
  {
   "cell_type": "code",
   "execution_count": 4,
   "metadata": {},
   "outputs": [],
   "source": [
    "import math\n",
    "def area(shape=\"circle\", length=0, width=0):\n",
    "    if shape == \"circle\":\n",
    "        return length * length * math.pi\n",
    "    return None"
   ]
  },
  {
   "cell_type": "markdown",
   "metadata": {},
   "source": [
    "## #3 Write a function that takes a list of numbers and returns True of all number in the list are unique and returns False if the list contains duplicate numbers. \n",
    "* Hint, maybe think of using a set()\n",
    "\n",
    "Input:  input_list = [2,4,5,5,7,9]\n",
    "\n",
    "Expected Output:  False"
   ]
  },
  {
   "cell_type": "code",
   "execution_count": 5,
   "metadata": {},
   "outputs": [],
   "source": [
    "def uniques(n):\n",
    "    check = set(n)\n",
    "    return len(n) == len(check)"
   ]
  },
  {
   "cell_type": "markdown",
   "metadata": {},
   "source": [
    "## #4 Write a Python program to count the number of each character of a given text of a text file.\n",
    "* Use the text file called 'lil-wayne.txt' in the data folder.  \n",
    "* Convert all the characters to uppercase first, then count them.  \n",
    "* Use a dictionary in which the keys of the dictionary are the characters, and the values are the counts of that character. \n",
    "\n",
    "Expected Result:  `{'D': 74, 'W': 63, 'A': 211, 'Y': 44, 'N': 165, 'E': 274, ' ': 522, 'M': 77, 'I': 185, 'C': 60, 'H': 122, 'L': 126, 'R': 152, 'T': 180, 'J': 8, '.': 26, '(': 12, 'B': 59, 'O': 145, 'S': 152, 'P': 39, '2': 24, '7': 7, ',': 37, '1': 28, '9': 16, '8': 6, ')': 12, '[': 14, ']': 14, 'K': 13, 'F': 44, 'G': 53, 'X': 5, 'U': 66, 'V': 20, '3': 2, '4': 4, '5': 5, '6': 3, '0': 36, '\\n': 6, '-': 6, ';': 1, '!': 1, '\"': 8, \"'\": 3, '—': 1}`"
   ]
  },
  {
   "cell_type": "code",
   "execution_count": null,
   "metadata": {},
   "outputs": [
    {
     "name": "stdout",
     "output_type": "stream",
     "text": [
      "Counter({'the': 24, 'and': 15, 'in': 14, 'of': 13, 'his': 11, 'with': 10, 'album': 10, 'as': 9, 'was': 9, 'Wayne': 8, 'Carter': 7, 'released': 7, 'Tha': 7, 'one': 5, 'Money': 5, 'Hot': 5, 'Lil': 4, 'an': 4, 'million': 4, 'known': 3, 'He': 3, 'His': 3, 'he': 3, 'Cash': 3, 'a': 3, 'album,': 3, 'on': 3, 'first': 3, 'Billboard': 3, 'studio': 3, 'Awards,': 3, 'September': 2, '27,': 2, 'is': 2, 'most': 2, 'hip': 2, 'hop': 2, 'began': 2, '1995,': 2, 'Records': 2, 'artist': 2, 'B.G.': 2, '(at': 2, 'time': 2, 'they': 2, 'that': 2, 'debut': 2, 'The': 2, 'became': 2, 'following': 2, '(1999)': 2, 'Waynes': 2, 'solo': 2, '2007.': 2, 'more': 2, 'music': 2, 'over': 2, 'copies': 2, 'won': 2, 'Grammy': 2, 'A': 2, '(featuring': 2, 'being': 2, 'to': 2, '2010,': 2, 'after': 2, 'IV': 2, 'sold': 2, 'United': 2, 'has': 2, 'Music': 2, 'Dwayne': 1, 'Michael': 1, 'Jr.': 1, '(born': 1, '1982),[2]': 1, 'professionally': 1, 'Wayne,': 1, 'American': 1, 'rapper,': 1, 'singer,': 1, 'songwriter': 1, 'record': 1, 'executive..': 1, 'commonly': 1, 'regarded': 1, 'influential': 1, 'artists': 1, 'generation,[3]': 1, 'often': 1, 'cited': 1, 'greatest': 1, 'rappers': 1, 'all': 1, 'time.[4][5]': 1, 'career': 1, 'at': 1, 'age': 1, '12,': 1, 'when': 1, 'signed': 1, 'by': 1, 'rapper': 1, 'Birdman,': 1, 'joining': 1, 'youngest': 1, 'member': 1, 'label.[6]': 1, 'From': 1, 'then': 1, 'on,': 1, 'flagship': 1, 'before': 1, 'ending': 1, 'association': 1, 'company': 1, 'June': 1, '2018.[7]\\n\\nIn': 1, 'put': 1, 'duo': 1, 'label-mate': 1, 'Doogie)': 1, 'recorded': 1, 'True': 1, 'Story,': 1, 'year,': 1, 'although': 1, 'Baby': 1, 'D)': 1, 'only': 1, 'appeared': 1, 'three': 1, 'tracks.[8]': 1, 'soon': 1, 'joined': 1, 'southern': 1, 'group': 1, 'Boys,': 1, 'label-mates': 1, 'Juvenile': 1, 'Turk': 1, '1997;': 1, 'their': 1, 'Get': 1, 'It': 1, 'How': 1, 'U': 1, 'Live!': 1, 'October': 1, 'year.': 1, 'Boys': 1, 'popular': 1, 'release': 1, 'Guerrilla': 1, 'Warfare': 1, 'song': 1, 'Bling': 1, 'Bling.\\n\\nLil': 1, 'Block': 1, 'Is': 1, 'breakthrough,': 1, 'reached': 1, 'higher': 1, 'popularity': 1, 'fourth': 1, '(2004)': 1, 'fifth': 1, 'II': 1, '(2005),': 1, 'well': 1, 'several': 1, 'mixtapes': 1, 'collaborations': 1, 'throughout': 1, '2006': 1, 'gained': 1, 'prominence': 1, 'within': 1, 'industry': 1, 'sixth': 1, 'III': 1, '(2008),': 1, 'first-week': 1, 'sales': 1, 'US.': 1, 'Award': 1, 'for': 1, 'Best': 1, 'Rap': 1, 'Album': 1, 'included': 1, 'successful': 1, 'singles': 1, 'Milli,': 1, 'Got': 1, 'T-Pain),': 1, 'Lollipop': 1, 'Static': 1, 'Major)—the': 1, 'latter': 1, 'single': 1, 'reach': 1, 'number': 1, '100.': 1, 'In': 1, 'February': 1, 'seventh': 1, 'Rebirth,': 1, 'which': 1, 'experimented': 1, 'rap': 1, 'rock': 1, 'met': 1, 'generally': 1, 'negative': 1, 'reviews.': 1, 'month': 1, 'later': 1, 'March': 1, 'serving': 1, '8-month': 1, 'jail': 1, 'sentence': 1, 'New': 1, 'York': 1, 'convicted': 1, 'criminal': 1, 'possession': 1, 'weapon': 1, 'stemming': 1, 'from': 1, 'incident': 1, 'July': 1, 'eighth': 1, 'I': 1, 'Am': 1, 'Not': 1, 'Human': 1, 'Being': 1, '(2010)': 1, 'during': 1, 'incarceration,': 1, 'while': 1, '2011': 1, 'release.': 1, '964,000': 1, 'its': 1, 'week': 1, 'States.[9]': 1, 'twelfth': 1, 'V': 1, '2018': 1, 'multiple': 1, 'delays.': 1, 'thirteenth': 1, 'Funeral,': 1, 'early': 1, '2020.[10]\\n\\nLil': 1, '120': 1, 'records': 1, 'worldwide,': 1, 'including': 1, 'than': 1, '20': 1, 'albums': 1, '70': 1, 'digital': 1, 'tracks': 1, 'States,': 1, 'making': 1, 'him': 1, 'worlds': 1, 'best-selling': 1, 'artists.[11][12][13]': 1, 'five': 1, '11': 1, 'BET': 1, 'four': 1, 'two': 1, 'MTV': 1, 'Video': 1, 'Awards': 1, 'eight': 1, 'NAACP': 1, 'Image': 1, 'Awards.': 1, 'On': 1, '2012,': 1, 'male': 1, 'surpass': 1, 'Elvis': 1, 'Presley': 1, 'entries': 1, '100,': 1, '109': 1, 'songs.[14][15]': 1, 'also': 1, 'currently': 1, 'serves': 1, 'chief': 1, 'executive': 1, 'officer': 1, '(CEO)': 1, 'own': 1, 'label,': 1, 'Young': 1, 'Entertainment.': 1})\n",
      "Counter({'E': 274, 'A': 211, 'I': 185, 'T': 180, 'N': 165, 'R': 152, 'S': 152, 'O': 145, 'L': 126, 'H': 122, 'M': 77, 'D': 74, 'U': 66, 'W': 63, 'C': 60, 'B': 59, 'G': 53, 'Y': 44, 'F': 44, 'P': 39, ',': 37, '0': 36, '1': 28, '.': 26, '2': 24, 'V': 20, '9': 16, '[': 14, ']': 14, 'K': 13, '(': 12, ')': 12, 'J': 8, '7': 7, '8': 6, '\\n': 6, '-': 6, 'X': 5, '5': 5, '4': 4, '6': 3, '3': 2, ';': 1, '!': 1, '—': 1})\n"
     ]
    }
   ],
   "source": [
    "from collections import Counter\n",
    "file_path = 'data/lil-wayne.txt'\n",
    "try:\n",
    "    with open(file_path, 'r') as file:\n",
    "        content = file.read()  # Reads the entire content of the file\n",
    "        #print(content)\n",
    "        words = content.split(\" \")\n",
    "        print(Counter(words))\n",
    "        #print(words)\n",
    "        #not a pythonic solution!!!\n",
    "        # for i in range(len(words)): #for each word\n",
    "        #     word = words[i] #identify word \n",
    "        #     j = 0\n",
    "        #     while j < len(word) and not isalnum(word[j]): #to ignore all (\n",
    "        #         j += 1\n",
    "        #     words[i] = ...\n",
    "        toPrint = \"\"\n",
    "\n",
    "        #Convert only the first letters to upper\n",
    "        for word in words:\n",
    "            flip = False\n",
    "            changed = \"\"\n",
    "            for char in word:\n",
    "                if char.isalnum() and not flip:\n",
    "                    changed = changed + char.upper()\n",
    "                    flip = True\n",
    "                else:\n",
    "                    changed = changed + char\n",
    "        count = Counter()\n",
    "        for word in words:\n",
    "            toUpper = \"\"\n",
    "            for char in word:\n",
    "                toUpper = toUpper + char.upper()\n",
    "            count.update(toUpper)\n",
    "        print(count) #solution printed on second line\n",
    "            \n",
    "\n",
    "\n",
    "            \n",
    "            \n",
    "\n",
    "except FileNotFoundError:\n",
    "    print(f\"Error: The file '{file_path}' was not found.\")\n",
    "except Exception as e:\n",
    "    print(f\"An error occurred: {e}\")\n",
    "\n"
   ]
  },
  {
   "cell_type": "markdown",
   "metadata": {},
   "source": [
    "# 4.5 Figure out how to sort the dictionary to find which character appears the most."
   ]
  },
  {
   "cell_type": "code",
   "execution_count": 9,
   "metadata": {},
   "outputs": [
    {
     "data": {
      "text/plain": [
       "[('E', 274)]"
      ]
     },
     "execution_count": 9,
     "metadata": {},
     "output_type": "execute_result"
    }
   ],
   "source": [
    "count.most_common(1)"
   ]
  },
  {
   "cell_type": "markdown",
   "metadata": {},
   "source": [
    "## #5 Using the list below...\n",
    "* Remove the fourth number from the list.\n",
    "* Take that number you just removed and multiply the last number of the list by that number. \n",
    "* Append that number to the end of the list.\n",
    "* Print the list\n",
    "\n",
    "INPUT: [1, 1, 2, 3, 5, 8, 13, 21]\n",
    "\n",
    "EXPECTED OUTPUT:  [1, 1, 2, 5, 8, 13, 21, 63]\n",
    "\n"
   ]
  },
  {
   "cell_type": "code",
   "execution_count": 12,
   "metadata": {},
   "outputs": [
    {
     "name": "stdout",
     "output_type": "stream",
     "text": [
      "[1, 1, 2, 5, 8, 13, 21]\n"
     ]
    }
   ],
   "source": [
    "list1 = [1, 1, 2, 3, 5, 8, 13, 21]\n",
    "list1.remove(3)\n",
    "print(list1)"
   ]
  },
  {
   "cell_type": "markdown",
   "metadata": {},
   "source": [
    "## #6 Using the list below, make a new list that contains only the numbers from the original list that are divisible by three.\n",
    "\n",
    "* Input:  original_list = [2, 3, 6, 8, 9, 15, 19, 21]\n",
    "* Expected new list:  [3, 6, 9, 15, 21]\n"
   ]
  },
  {
   "cell_type": "code",
   "execution_count": 13,
   "metadata": {},
   "outputs": [
    {
     "name": "stdout",
     "output_type": "stream",
     "text": [
      "[3, 6, 9, 15, 21]\n"
     ]
    }
   ],
   "source": [
    "original_list = [2, 3, 6, 8, 9, 15, 19, 21]\n",
    "newList = []\n",
    "for num in original_list:\n",
    "    if num % 3 == 0:\n",
    "        newList.append(num)\n",
    "print(newList)"
   ]
  },
  {
   "cell_type": "markdown",
   "metadata": {},
   "source": [
    "## #7 Reverse the list below"
   ]
  },
  {
   "cell_type": "code",
   "execution_count": 15,
   "metadata": {},
   "outputs": [
    {
     "name": "stdout",
     "output_type": "stream",
     "text": [
      "[21, 19, 15, 9, 8, 6, 3, 2]\n"
     ]
    }
   ],
   "source": [
    "original_list = [2, 3, 6, 8, 9, 15, 19, 21]\n",
    "newList = []\n",
    "i = len(original_list) - 1\n",
    "while i >= 0:\n",
    "    newList.append(original_list[i])\n",
    "    i -= 1\n",
    "print(newList)\n",
    "\n",
    "\n"
   ]
  },
  {
   "cell_type": "markdown",
   "metadata": {},
   "source": [
    "## #8 Using the list below, turn every item of the list into its square.  \n",
    "* Input original_list = [1, 2, 3, 4, 5, 6, 7]\n",
    "* Expected new_list:  [1, 4, 9, 16, 25, 36, 49]\n"
   ]
  },
  {
   "cell_type": "code",
   "execution_count": 17,
   "metadata": {},
   "outputs": [
    {
     "name": "stdout",
     "output_type": "stream",
     "text": [
      "49.0\n"
     ]
    }
   ],
   "source": [
    "import math\n",
    "original_list = [1, 2, 3, 4, 5, 6, 7]\n",
    "for i in range(len(original_list)):\n",
    "    original_list[i] = math.pow(original_list[i], 2)\n",
    "print(original_list[i])\n"
   ]
  },
  {
   "cell_type": "markdown",
   "metadata": {},
   "source": [
    "## #9  Given a two Python list. Iterate both lists simultaneously such that list1 should display item in original order and list2 in reverse order.\n",
    "Given input:\n",
    "```\n",
    "list1 = [10, 20, 30, 40]\n",
    "list2 = [100, 200, 300, 400]\n",
    "```\n",
    "\n",
    "Expected Output:\n",
    "```\n",
    "10 400\n",
    "20 300\n",
    "30 200\n",
    "40 100\n",
    "```"
   ]
  },
  {
   "cell_type": "code",
   "execution_count": 19,
   "metadata": {},
   "outputs": [
    {
     "name": "stdout",
     "output_type": "stream",
     "text": [
      "10\n",
      "400\n",
      "20\n",
      "300\n",
      "30\n",
      "200\n",
      "40\n",
      "100\n"
     ]
    }
   ],
   "source": [
    "list1 = [10, 20, 30, 40]\n",
    "list2 = [100, 200, 300, 400]\n",
    "\n",
    "for i in range(len(list1)):\n",
    "    print(list1[i])\n",
    "    print(list2[len(list2) - 1 - i])"
   ]
  },
  {
   "cell_type": "markdown",
   "metadata": {},
   "source": [
    "## #10 Remove empty strings from the list of strings.\n",
    "Input:  `list_of_strings = ['I', 'love', '', '', 'data', '', 'science', '!']`\n",
    "\n",
    "Expected Output:  `['I', 'love', 'data', 'science', '!']`"
   ]
  },
  {
   "cell_type": "code",
   "execution_count": 22,
   "metadata": {},
   "outputs": [
    {
     "name": "stdout",
     "output_type": "stream",
     "text": [
      "['I', 'love', 'data', 'science', '!']\n"
     ]
    }
   ],
   "source": [
    "list_of_strings = ['I', 'love', '', '', 'data', '', 'science', '!']\n",
    "while '' in list_of_strings:\n",
    "    list_of_strings.remove('')\n",
    "print(list_of_strings)"
   ]
  },
  {
   "cell_type": "markdown",
   "metadata": {},
   "source": [
    "##  #11 Check if the value 999 exists in the dicitionary below.  If so, print true, if not print false.\n",
    "\n",
    "Input: sample_dict = {'a': 100, 'b': 999, 'c': 300}\n",
    "\n",
    "Expected Output:  True"
   ]
  },
  {
   "cell_type": "code",
   "execution_count": 23,
   "metadata": {},
   "outputs": [
    {
     "name": "stdout",
     "output_type": "stream",
     "text": [
      "True\n"
     ]
    }
   ],
   "source": [
    "flag = True\n",
    "sample_dict = {'a': 100, 'b': 999, 'c': 300}\n",
    "for key in sample_dict:\n",
    "    if sample_dict.get(key) == 999:\n",
    "        print(True)\n",
    "        flag = False\n",
    "if flag:\n",
    "    print(False)\n",
    "\n",
    "\n"
   ]
  },
  {
   "cell_type": "markdown",
   "metadata": {},
   "source": [
    "# #12 Fix all the follow broken code snippets below\n",
    "(I got these examples from a great website, I will reference them later because they have the answers on them.)"
   ]
  },
  {
   "cell_type": "code",
   "execution_count": 24,
   "metadata": {},
   "outputs": [
    {
     "name": "stdout",
     "output_type": "stream",
     "text": [
      "Greetings, hater of pirates!\n"
     ]
    }
   ],
   "source": [
    "greeting = \"Hello, possible pirate! What's the password?\"\n",
    "password = 'admin'\n",
    "message = greeting+password\n",
    "if message in \"[Arrr!)\":\n",
    "\tprint(\"Go away, pirate.\")\n",
    "else:\n",
    "\tprint(\"Greetings, hater of pirates!\")"
   ]
  },
  {
   "cell_type": "code",
   "execution_count": 28,
   "metadata": {},
   "outputs": [
    {
     "name": "stdout",
     "output_type": "stream",
     "text": [
      "each_chunk\n"
     ]
    }
   ],
   "source": [
    "pages = 457\n",
    "word_per_page = 250\n",
    "#number-of-pieces = 100 Python thinks this is number - of - pieces\n",
    "number_of_pieces = 100\n",
    "\n",
    "\n",
    "each_chunk = (457 * 250)/10\n",
    "print(\"each_chunk\")"
   ]
  },
  {
   "cell_type": "code",
   "execution_count": null,
   "metadata": {},
   "outputs": [],
   "source": []
  },
  {
   "cell_type": "code",
   "execution_count": null,
   "metadata": {},
   "outputs": [],
   "source": []
  },
  {
   "cell_type": "code",
   "execution_count": null,
   "metadata": {},
   "outputs": [],
   "source": []
  },
  {
   "cell_type": "markdown",
   "metadata": {},
   "source": [
    "# Extra Credit"
   ]
  },
  {
   "cell_type": "markdown",
   "metadata": {},
   "source": [
    "## Using pandas, read the csv file in the data folder called `titianic.csv` and store it as a variable named `df`."
   ]
  },
  {
   "cell_type": "code",
   "execution_count": 8,
   "metadata": {},
   "outputs": [
    {
     "name": "stderr",
     "output_type": "stream",
     "text": [
      "/Users/zacharydesario/opt/anaconda3/lib/python3.8/site-packages/pandas/core/computation/expressions.py:20: UserWarning: Pandas requires version '2.7.3' or newer of 'numexpr' (version '2.7.1' currently installed).\n",
      "  from pandas.core.computation.check import NUMEXPR_INSTALLED\n"
     ]
    }
   ],
   "source": [
    "import pandas as pd"
   ]
  },
  {
   "cell_type": "markdown",
   "metadata": {},
   "source": [
    "## I know we didn't cover this, but figure out how to find the mean age of the age column in your dataframe. "
   ]
  },
  {
   "cell_type": "code",
   "execution_count": null,
   "metadata": {},
   "outputs": [],
   "source": []
  },
  {
   "cell_type": "markdown",
   "metadata": {},
   "source": [
    "## What was the oldest and youngest ages on the titanic?"
   ]
  },
  {
   "cell_type": "code",
   "execution_count": null,
   "metadata": {},
   "outputs": [],
   "source": []
  },
  {
   "cell_type": "markdown",
   "metadata": {},
   "source": [
    "## How many people embarked from station 'S'?"
   ]
  },
  {
   "cell_type": "code",
   "execution_count": null,
   "metadata": {},
   "outputs": [],
   "source": []
  }
 ],
 "metadata": {
  "kernelspec": {
   "display_name": "Python 3",
   "language": "python",
   "name": "python3"
  },
  "language_info": {
   "codemirror_mode": {
    "name": "ipython",
    "version": 3
   },
   "file_extension": ".py",
   "mimetype": "text/x-python",
   "name": "python",
   "nbconvert_exporter": "python",
   "pygments_lexer": "ipython3",
   "version": "3.12.1"
  }
 },
 "nbformat": 4,
 "nbformat_minor": 4
}
