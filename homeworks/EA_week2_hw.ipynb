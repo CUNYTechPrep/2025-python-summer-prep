{
 "cells": [
  {
   "cell_type": "markdown",
   "metadata": {},
   "source": [
    "## ❌ DO NOT EDIT - MAKE A COPY\n",
    "# Q1: Alphabet Slices\n",
    "* Store the first ten letters of the alphabet in a list.\n",
    "* Use a slice to print out the first three letters of the alphabet.\n",
    "* Use a slice to print out any three letters from the middle of your list."
   ]
  },
  {
   "cell_type": "code",
   "execution_count": null,
   "metadata": {},
   "outputs": [],
   "source": [
    "# Solve Alphabet slices here. \n",
    "## Extra Credit:  Do this without 'hard coding' the alpahbet.\n",
    "word = \"abcdefghij\"\n",
    "first = [char for char in word]\n",
    "print(first[:3])\n",
    "print(first[(len(first)//2-1):(len(first)//2 + 2)])\n"
   ]
  },
  {
   "cell_type": "markdown",
   "metadata": {},
   "source": [
    "# Q2:  Covert all the rapper names to title case and save them into a new different list. \n",
    "Example: **lil wayne** becomes **Lil Wayne**"
   ]
  },
  {
   "cell_type": "code",
   "execution_count": 2,
   "metadata": {},
   "outputs": [],
   "source": [
    "# Solve rapper names here\n",
    "rappers = ['lil wayne', 'nicki minaj', 'drake']\n",
    "for i in range(len(rappers)):\n",
    "    #WRONG because python strings are immutable\n",
    "    # rappers[i][0] = rappers[i][0].upper()\n",
    "    # rappers[i][rappers[i].indexOf(' ') + 1] = rappers[i][rappers[i].indexOf(' ') + 1].upper()\n",
    "\n",
    "    #algorithm idea: iterate through each char. If its ' ', then upper the char after\n",
    "    new = True\n",
    "    result = []\n",
    "    for char in rappers[i]:\n",
    "        if new:\n",
    "            char = char.upper()\n",
    "            new = False\n",
    "        if char == ' ':\n",
    "            new = True\n",
    "        result.append(char)\n",
    "    rappers[i] = \"\".join(result)\n",
    "\n",
    "\n",
    "\n",
    "\n",
    "\n"
   ]
  },
  {
   "cell_type": "markdown",
   "metadata": {},
   "source": [
    "# Q3: Write a function that takes a number and returns:\n",
    "* True if the input number is even.\n",
    "* False if the input number is odd."
   ]
  },
  {
   "cell_type": "code",
   "execution_count": null,
   "metadata": {},
   "outputs": [],
   "source": [
    "# Solve problem here\n",
    "\n",
    "def even_odd(lst):\n",
    "   pass # replace this with your code\n",
    "   # return something"
   ]
  },
  {
   "cell_type": "markdown",
   "metadata": {},
   "source": [
    "# Q4: Find the sum and the average of this list of numbers.\n",
    "\n",
    "Try doing this using a loop.  Then try doing this without using a loop. "
   ]
  },
  {
   "cell_type": "code",
   "execution_count": 1,
   "metadata": {},
   "outputs": [
    {
     "name": "stdout",
     "output_type": "stream",
     "text": [
      "353 35.3\n"
     ]
    }
   ],
   "source": [
    "# Solve problem here:\n",
    "\n",
    "my_list = [1, 5, 10, 55, 88, 44, 42, 50, 20, 38]\n",
    "list_sum = sum(my_list) \n",
    "list_avg = list_sum / len(my_list)\n",
    "\n",
    "\n",
    "# Keep this as your last line in this cell.\n",
    "print(list_sum, list_avg)"
   ]
  },
  {
   "cell_type": "markdown",
   "metadata": {},
   "source": [
    "# Q5: \n",
    "## Write a function that takes a list and returns a new list that has all the duplicates removed.\n",
    "\n",
    "Example input and expected output:\n",
    "- input = `[\"Michele\", \"Robin\", \"Sara\", \"Michele\"]`\n",
    "- expected output = `['Michele', 'Robin', 'Sara']`\n"
   ]
  },
  {
   "cell_type": "code",
   "execution_count": 7,
   "metadata": {},
   "outputs": [
    {
     "name": "stdout",
     "output_type": "stream",
     "text": [
      "Sara\n",
      "Michele\n",
      "Robin\n"
     ]
    }
   ],
   "source": [
    "# Solve problem here:\n",
    "\n",
    "names = [\"Michele\", \"Robin\", \"Sara\", \"Michele\"]\n",
    "name = set()\n",
    "for n in names:\n",
    "    name.add(n)\n",
    "for n in name:\n",
    "    print(n)\n"
   ]
  },
  {
   "cell_type": "markdown",
   "metadata": {},
   "source": [
    "# Q6: Write a function that takes a list of numbers \n",
    "(for example, `a = [5, 10, 15, 20, 25]`) and returns a new list of only the first and last elements of the given list.\n",
    "\n",
    "Example input and expected output:\n",
    "- input = `[5, 10, 15, 20, 25]`\n",
    "- expected output = `[5, 25]`"
   ]
  },
  {
   "cell_type": "code",
   "execution_count": 9,
   "metadata": {},
   "outputs": [
    {
     "name": "stdout",
     "output_type": "stream",
     "text": [
      "[5, 25]\n"
     ]
    }
   ],
   "source": [
    "# Solve problem here:\n",
    "input_list = [5, 10, 99, 20, 25]\n",
    "\n",
    "def dequePeek(i):\n",
    "    n = []\n",
    "    n.append(i[0])\n",
    "    n.append(i[-1])\n",
    "\n",
    "    return n\n",
    "print(dequePeek(input_list))"
   ]
  },
  {
   "cell_type": "markdown",
   "metadata": {},
   "source": [
    "# Q7: \n",
    "## Implement a function that takes as input three variables, and returns the largest of the three. \n",
    "### Try doing this without using the `max()` function!\n",
    "\n",
    "_**Note:** all three input numbers will always be different, no need to account for a tie._\n",
    "\n",
    "Example input and expected output:\n",
    "- input: `your_function(1, 5, 10)`\n",
    "- expected output:  `10`"
   ]
  },
  {
   "cell_type": "code",
   "execution_count": 10,
   "metadata": {},
   "outputs": [],
   "source": [
    "# Solve Problem here:\n",
    "\n",
    "def my_max(a, b, c):\n",
    "    return max(a,b,c)\n",
    "\n",
    "    "
   ]
  },
  {
   "cell_type": "code",
   "execution_count": 11,
   "metadata": {},
   "outputs": [
    {
     "data": {
      "text/plain": [
       "10"
      ]
     },
     "execution_count": 11,
     "metadata": {},
     "output_type": "execute_result"
    }
   ],
   "source": [
    "# Test to see if your function works properly.\n",
    "my_max(1, 5, 10)"
   ]
  },
  {
   "cell_type": "markdown",
   "metadata": {},
   "source": [
    "# Q8: Write a function that takes a number as input and returns the following:\n",
    "* If the input is divisible by three, return `'fizz'`\n",
    "* If the input is divisible by five, return `'buzz'`\n",
    "* If the input is divisible by three and by five, return `'fizzbuzz'`\n",
    "* If the input is not divisible by three or five, return `None`."
   ]
  },
  {
   "cell_type": "code",
   "execution_count": 12,
   "metadata": {},
   "outputs": [],
   "source": [
    "# Solve Problem fizzbuzz here:\n",
    "\n",
    "def foo(num):\n",
    "    fizz =num % 3 == 0 \n",
    "    buzz = num % 5 == 0\n",
    "    if fizz and buzz:\n",
    "        return \"fizzbuzz\"\n",
    "    if fizz:\n",
    "        return \"fizz\"\n",
    "    if buzz:\n",
    "        return \"buzz\"\n",
    "    return None\n"
   ]
  }
 ],
 "metadata": {
  "kernelspec": {
   "display_name": "Python 3",
   "language": "python",
   "name": "python3"
  },
  "language_info": {
   "codemirror_mode": {
    "name": "ipython",
    "version": 3
   },
   "file_extension": ".py",
   "mimetype": "text/x-python",
   "name": "python",
   "nbconvert_exporter": "python",
   "pygments_lexer": "ipython3",
   "version": "3.12.1"
  }
 },
 "nbformat": 4,
 "nbformat_minor": 4
}
